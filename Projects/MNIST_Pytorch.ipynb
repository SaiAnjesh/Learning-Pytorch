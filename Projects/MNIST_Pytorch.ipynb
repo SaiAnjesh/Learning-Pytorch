{
  "nbformat": 4,
  "nbformat_minor": 0,
  "metadata": {
    "colab": {
      "provenance": [],
      "authorship_tag": "ABX9TyM7t2njApAMpc5B105ZoK41",
      "include_colab_link": true
    },
    "kernelspec": {
      "name": "python3",
      "display_name": "Python 3"
    },
    "language_info": {
      "name": "python"
    }
  },
  "cells": [
    {
      "cell_type": "markdown",
      "metadata": {
        "id": "view-in-github",
        "colab_type": "text"
      },
      "source": [
        "<a href=\"https://colab.research.google.com/github/SaiAnjesh/Learning-Pytorch/blob/main/Projects/MNIST_Pytorch.ipynb\" target=\"_parent\"><img src=\"https://colab.research.google.com/assets/colab-badge.svg\" alt=\"Open In Colab\"/></a>"
      ]
    },
    {
      "cell_type": "markdown",
      "source": [
        "# **Project :**\n",
        "\n",
        "MNIST using PyTorch"
      ],
      "metadata": {
        "id": "5dsCOCAjbj0p"
      }
    },
    {
      "cell_type": "code",
      "execution_count": 2,
      "metadata": {
        "id": "9opQeIApZFvz"
      },
      "outputs": [],
      "source": [
        "# Importing Libraries\n",
        "import torch, torchvision # to transform image\n",
        "from torch import nn\n",
        "from torch import optim\n",
        "from torchvision.transforms import ToTensor\n",
        "import torch.nn.functional as F\n",
        "import matplotlib.pyplot as plt # to view images"
      ]
    },
    {
      "cell_type": "code",
      "source": [
        "# To set batch size\n",
        "numb_batch = 64"
      ],
      "metadata": {
        "id": "i9ngbCXpbepx"
      },
      "execution_count": 3,
      "outputs": []
    },
    {
      "cell_type": "code",
      "source": [
        "# Getting Data\n",
        "# Using the in-uilt MNIST Data\n",
        "train_data = torchvision.datasets.MNIST('mins')"
      ],
      "metadata": {
        "id": "KNY5JKYcc6a9"
      },
      "execution_count": null,
      "outputs": []
    }
  ]
}