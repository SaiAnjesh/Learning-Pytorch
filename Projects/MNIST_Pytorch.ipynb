{
  "nbformat": 4,
  "nbformat_minor": 0,
  "metadata": {
    "colab": {
      "provenance": [],
      "authorship_tag": "ABX9TyNmkXhQ0pqyqWEfD3MyeiVL",
      "include_colab_link": true
    },
    "kernelspec": {
      "name": "python3",
      "display_name": "Python 3"
    },
    "language_info": {
      "name": "python"
    }
  },
  "cells": [
    {
      "cell_type": "markdown",
      "metadata": {
        "id": "view-in-github",
        "colab_type": "text"
      },
      "source": [
        "<a href=\"https://colab.research.google.com/github/SaiAnjesh/Learning-Pytorch/blob/main/Projects/MNIST_Pytorch.ipynb\" target=\"_parent\"><img src=\"https://colab.research.google.com/assets/colab-badge.svg\" alt=\"Open In Colab\"/></a>"
      ]
    },
    {
      "cell_type": "markdown",
      "source": [
        "# **Project :**\n",
        "\n",
        "MNIST using PyTorch"
      ],
      "metadata": {
        "id": "5dsCOCAjbj0p"
      }
    },
    {
      "cell_type": "code",
      "execution_count": 7,
      "metadata": {
        "id": "9opQeIApZFvz"
      },
      "outputs": [],
      "source": [
        "# Importing Libraries\n",
        "import torch, torchvision # to transform image\n",
        "from torch import nn\n",
        "from torch import optim\n",
        "from torchvision.transforms import ToTensor\n",
        "import torch.nn.functional as F\n",
        "import matplotlib.pyplot as plt # to view images"
      ]
    },
    {
      "cell_type": "code",
      "source": [
        "# To set batch size\n",
        "numb_batch = 64"
      ],
      "metadata": {
        "id": "i9ngbCXpbepx"
      },
      "execution_count": 8,
      "outputs": []
    },
    {
      "cell_type": "code",
      "source": [
        "# Transform PIL Image to Tensor\n",
        "T = torchvision.transforms.Compose([\n",
        "    torchvision.transforms.ToTensor()\n",
        "])"
      ],
      "metadata": {
        "id": "DtiBdtK352kq"
      },
      "execution_count": 9,
      "outputs": []
    },
    {
      "cell_type": "code",
      "source": [
        "# Getting Data\n",
        "# Using the in-uilt MNIST Data\n",
        "train_data = torchvision.datasets.MNIST('minst_data', train = True, download = True, transform = T)\n",
        "val_data = torchvision.datasets.MNIST('minst_data', train = False, download = True, transform = T)"
      ],
      "metadata": {
        "id": "KNY5JKYcc6a9"
      },
      "execution_count": 11,
      "outputs": []
    },
    {
      "cell_type": "code",
      "source": [
        "# Dataloader - to view the images\n",
        "train_dl = torch.utils.data.DataLoader(train_data, batch_size = numb_batch)\n",
        "val_dl = torch.utils.data.DataLoader(val_data, batch_size = numb_batch)"
      ],
      "metadata": {
        "id": "j-lpr9Y53Ih_"
      },
      "execution_count": 12,
      "outputs": []
    },
    {
      "cell_type": "code",
      "source": [
        "# Test - Just Displaying the image\n",
        "\n",
        "# # Example - Tesnors of an image\n",
        "# print(train_data[0][0][0])\n",
        "\n",
        "# Example - Plotting the same as image\n",
        "plt.imshow(train_data[9][0][0], cmap = \"gray\")"
      ],
      "metadata": {
        "colab": {
          "base_uri": "https://localhost:8080/",
          "height": 447
        },
        "id": "nwaXKZf37Fns",
        "outputId": "dd60a8a3-9166-4489-e415-d3583a9a19af"
      },
      "execution_count": 19,
      "outputs": [
        {
          "output_type": "execute_result",
          "data": {
            "text/plain": [
              "<matplotlib.image.AxesImage at 0x7f03cbfd1f00>"
            ]
          },
          "metadata": {},
          "execution_count": 19
        },
        {
          "output_type": "display_data",
          "data": {
            "text/plain": [
              "<Figure size 640x480 with 1 Axes>"
            ],
            "image/png": "[encoded data removed]"
          },
          "metadata": {}
        }
      ]
    }
  ]
}